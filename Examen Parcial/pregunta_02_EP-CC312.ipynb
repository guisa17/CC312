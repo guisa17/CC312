{
 "cells": [
  {
   "cell_type": "code",
   "execution_count": null,
   "id": "64e0a1e2",
   "metadata": {},
   "outputs": [],
   "source": []
  },
  {
   "cell_type": "code",
   "execution_count": 20,
   "id": "809a4beb",
   "metadata": {},
   "outputs": [],
   "source": [
    "# Ejercicio 2 Examen parcial CC 312\n",
    "\n",
    "# Importando libreria para realizar solicitudes\n",
    "import requests\n",
    "\n",
    "# Importando libreria para trabajar con formato de datos 'json'\n",
    "import json\n"
   ]
  },
  {
   "cell_type": "code",
   "execution_count": 21,
   "id": "db7f6233",
   "metadata": {},
   "outputs": [],
   "source": [
    "# Encontrando información sobre números (aburrido o interesante)en el recurso web numbersapi.com\n",
    "# Leyendo números del archivo y escribiendolos en la lista\n",
    "n = []\n",
    "with open('test_numbers.txt') as f:\n",
    "    for line in f:\n",
    "        n += [line.rstrip()]\n",
    "\n",
    "# Url para enviar solicitudes a\n",
    "api_url = 'http://numbersapi.com'\n",
    "\n",
    "# Configuración de parámetros para la solicitud.\n",
    "params = {\n",
    "    'type': 'math',\n",
    "    'json': 'true'\n",
    "}\n"
   ]
  },
  {
   "cell_type": "code",
   "execution_count": 22,
   "id": "a9a7db50",
   "metadata": {},
   "outputs": [],
   "source": [
    "# Creando solicitudes y escribiendo resultados en el diccionario\n",
    "\n",
    "d = {}\n",
    "for i in range(len(n)):\n",
    "    respond = requests.get(api_url+'/' + n[i] + '/', params=params)\n",
    "    \n",
    "    # Obteniendo el diccionario a partir de datos json con la libreria 'json'\n",
    "    data = json.loads(respond.text)\n",
    "\n",
    "    # Escribir resultados en el diccionario por clave 'found'\n",
    "    if data['found'] == False:\n",
    "        d[n[i]] = 'No se encontro un dato.'\n",
    "    if data['found'] == True:\n",
    "        d[n[i]] = data['text']\n",
    "\n",
    "# Escribir resultados del diccionario en la nueva lista en el mismo orden en que se encontraron en el archivo\n",
    "results = []\n",
    "for i in range(len(n)):\n",
    "    results += [d[n[i]]]\n",
    "\n",
    "# Uniendo todos los elementos de la lista con el símbolo \\n\n",
    "results_txt = '\\n'.join(results)\n",
    "\n",
    "# Escribiendo contenido en el nuevo archivo\n",
    "with open('test_numbers_results.txt', 'w') as w:\n",
    "    # Escribiendo el contenido\n",
    "    w.write(results_txt)\n"
   ]
  }
 ],
 "metadata": {
  "kernelspec": {
   "display_name": "Python 3",
   "language": "python",
   "name": "python3"
  },
  "language_info": {
   "codemirror_mode": {
    "name": "ipython",
    "version": 3
   },
   "file_extension": ".py",
   "mimetype": "text/x-python",
   "name": "python",
   "nbconvert_exporter": "python",
   "pygments_lexer": "ipython3",
   "version": "3.12.0"
  }
 },
 "nbformat": 4,
 "nbformat_minor": 5
}
