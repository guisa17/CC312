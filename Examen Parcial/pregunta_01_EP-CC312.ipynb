{
 "cells": [
  {
   "cell_type": "code",
   "execution_count": 8,
   "id": "31b83c82",
   "metadata": {},
   "outputs": [],
   "source": [
    "# Ejercicio 1 Examen parcial CC 312\n",
    "\n",
    "# Importando libreria para realizar solicitudes\n",
    "import requests\n",
    "\n",
    "# Importando libreria para trabajar con formato de datos 'json'\n",
    "import json\n"
   ]
  },
  {
   "cell_type": "code",
   "execution_count": 9,
   "id": "edc82737",
   "metadata": {},
   "outputs": [],
   "source": [
    "# Recurso web openweathermap.org para obtner pronóstico del clima\n",
    "# Url para enviar solicitudes a \n",
    "\n",
    "# Formato: https://api.openweathermap.org/data/2.5/weather?lat={lat}&lon={lon}&appid={API key}\n",
    "api_url = 'https://api.openweathermap.org/data/2.5/weather'\n"
   ]
  },
  {
   "cell_type": "code",
   "execution_count": 10,
   "id": "1a8023c3",
   "metadata": {},
   "outputs": [],
   "source": [
    "# Solicitando el nombre de la ciudad  a fin de presentar el pronóstico del tiempo\n",
    "city = input()\n",
    "\n",
    "# Configuración de parámetros para la solicitud\n",
    "params = {\n",
    "    'q': city,              \n",
    "    'appid': '183bb537fc6d95ae576beaa85fabb030',  # Es necesario registrarse\n",
    "    'units': 'metric',\n",
    "    'lang': 'es'\n",
    "}\n"
   ]
  },
  {
   "cell_type": "code",
   "execution_count": 11,
   "id": "d943250b",
   "metadata": {},
   "outputs": [
    {
     "name": "stdout",
     "output_type": "stream",
     "text": [
      "Código de estado: 200\n",
      "Tipo de contenido: application/json; charset=utf-8\n"
     ]
    }
   ],
   "source": [
    "# Creando una solicitud\n",
    "respond = requests.get(api_url, params=params)\n",
    "\n",
    "# Preguntando por el estado\n",
    "print(f\"Código de estado: {respond.status_code}\")\n",
    "\n",
    "# preguntando por el tipo de contenido\n",
    "content_type = respond.headers.get(\"Content-Type\")\n",
    "print(f\"Tipo de contenido: {content_type}\")\n"
   ]
  },
  {
   "cell_type": "code",
   "execution_count": 12,
   "id": "7c53ef01",
   "metadata": {},
   "outputs": [
    {
     "name": "stdout",
     "output_type": "stream",
     "text": [
      "{'coord': {'lon': -77.0282, 'lat': -12.0432}, 'weather': [{'id': 803, 'main': 'Clouds', 'description': 'muy nuboso', 'icon': '04d'}], 'base': 'stations', 'main': {'temp': 22.17, 'feels_like': 22.45, 'temp_min': 19.14, 'temp_max': 22.17, 'pressure': 986, 'humidity': 77}, 'visibility': 10000, 'wind': {'speed': 3.6, 'deg': 170}, 'clouds': {'all': 75}, 'dt': 1697734050, 'sys': {'type': 2, 'id': 2037860, 'country': 'PE', 'sunrise': 1697712056, 'sunset': 1697756698}, 'timezone': -18000, 'id': 3936456, 'name': 'Lima', 'cod': 200}\n"
     ]
    }
   ],
   "source": [
    "# Obtener el objeto Python como diccionario a partir de datos json de dos maneras\n",
    "\n",
    "# Opcion 1 - Obtener el diccionario a partir de datos json con la librería 'requests'\n",
    "dic_from_json_1 = respond.json()\n",
    "print(dic_from_json_1)\n"
   ]
  },
  {
   "cell_type": "markdown",
   "id": "5f7adaa4",
   "metadata": {},
   "source": []
  },
  {
   "cell_type": "code",
   "execution_count": 13,
   "id": "4b9f794f",
   "metadata": {},
   "outputs": [
    {
     "name": "stdout",
     "output_type": "stream",
     "text": [
      "{'coord': {'lon': -77.0282, 'lat': -12.0432}, 'weather': [{'id': 803, 'main': 'Clouds', 'description': 'muy nuboso', 'icon': '04d'}], 'base': 'stations', 'main': {'temp': 22.17, 'feels_like': 22.45, 'temp_min': 19.14, 'temp_max': 22.17, 'pressure': 986, 'humidity': 77}, 'visibility': 10000, 'wind': {'speed': 3.6, 'deg': 170}, 'clouds': {'all': 75}, 'dt': 1697734050, 'sys': {'type': 2, 'id': 2037860, 'country': 'PE', 'sunrise': 1697712056, 'sunset': 1697756698}, 'timezone': -18000, 'id': 3936456, 'name': 'Lima', 'cod': 200}\n"
     ]
    }
   ],
   "source": [
    "# Opcion 2 - Obtener el diccionario a partir de datos json con la biblioteca 'json'\n",
    "dic_from_json_2 = json.loads(respond.text)\n",
    "print(dic_from_json_2)\n"
   ]
  },
  {
   "cell_type": "code",
   "execution_count": 14,
   "id": "8d41ae14",
   "metadata": {},
   "outputs": [
    {
     "name": "stdout",
     "output_type": "stream",
     "text": [
      "Temperatura actual en Lima es 22.17°C.\n"
     ]
    }
   ],
   "source": [
    "# Todos los datos recibidos anteriormente contienen una clave y la descripción se puede encontrar aquí.\n",
    "# https://openweathermap.org/current#current_JSON\n",
    "\n",
    "# Mostrando la tempratura de la ciudad de Lima\n",
    "data = dic_from_json_1    # por ejemplo, usando la opcion 1\n",
    "temperature = data[\"main\"][\"temp\"]\n",
    "\n",
    "plantilla = f'Temperatura actual en {city} es {temperature}°C.'\n",
    "print(plantilla)\n"
   ]
  }
 ],
 "metadata": {
  "kernelspec": {
   "display_name": "Python 3",
   "language": "python",
   "name": "python3"
  },
  "language_info": {
   "codemirror_mode": {
    "name": "ipython",
    "version": 3
   },
   "file_extension": ".py",
   "mimetype": "text/x-python",
   "name": "python",
   "nbconvert_exporter": "python",
   "pygments_lexer": "ipython3",
   "version": "3.12.0"
  }
 },
 "nbformat": 4,
 "nbformat_minor": 5
}
